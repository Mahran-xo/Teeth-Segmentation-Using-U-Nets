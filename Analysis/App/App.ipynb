{
 "cells": [
  {
   "cell_type": "code",
   "execution_count": 21,
   "metadata": {},
   "outputs": [],
   "source": [
    "import pickle\n",
    "import pandas as pd\n",
    "import torch\n",
    "import torch.nn as nn\n",
    "import matplotlib.pyplot as plt\n",
    "import torchvision.transforms.functional as TF\n",
    "import cv2\n",
    "from PIL import Image\n",
    "import numpy as np\n",
    "import torchvision.transforms as T\n",
    "from Viz import UNet_Attention , load_checkpoint\n",
    "from SegtUtils import Preprocessing , segmentation\n",
    "import albumentations as A\n",
    "from albumentations.pytorch import ToTensorV2\n",
    "DEVICE = torch.device('cuda' if torch.cuda.is_available() else 'cpu')"
   ]
  },
  {
   "cell_type": "code",
   "execution_count": 22,
   "metadata": {},
   "outputs": [],
   "source": [
    "val_transforms = A.Compose(\n",
    "    [\n",
    "        A.Resize(height=256, width=512),\n",
    "        A.Normalize(\n",
    "            mean=[0.0, 0.0, 0.0],\n",
    "            std=[1.0, 1.0, 1.0],\n",
    "            max_pixel_value=255.0,\n",
    "        ),\n",
    "        ToTensorV2(),\n",
    "    ],\n",
    ")"
   ]
  },
  {
   "cell_type": "code",
   "execution_count": 23,
   "metadata": {},
   "outputs": [],
   "source": [
    "model = UNet_Attention().to(DEVICE)"
   ]
  },
  {
   "cell_type": "code",
   "execution_count": 24,
   "metadata": {},
   "outputs": [
    {
     "name": "stdout",
     "output_type": "stream",
     "text": [
      "=> Loading checkpoint\n"
     ]
    }
   ],
   "source": [
    "load_checkpoint(torch.load(\"./my_checkpoint.pth.tar\"), model)"
   ]
  },
  {
   "cell_type": "code",
   "execution_count": 25,
   "metadata": {},
   "outputs": [],
   "source": [
    "drawing = False  # True if mouse is pressed\n",
    "points = []  # List to store the points of the polygon\n",
    "mask = None\n",
    "frame = cv2.imread('./26.jpg')\n",
    "frame = cv2.resize(frame , (512,256))\n",
    "frame = cv2.cvtColor(frame, cv2.COLOR_BGR2RGB)\n",
    "disp = frame.copy()\n",
    "\n",
    "# Mouse callback function\n",
    "def draw_polygon(event, x, y, flags, param):\n",
    "    global drawing, points, mask, frame\n",
    "\n",
    "    if event == cv2.EVENT_LBUTTONDOWN:\n",
    "        drawing = True\n",
    "        points = [(x, y)]\n",
    "        mask = np.zeros(frame.shape[:2], dtype=np.uint8)  # Create a black mask image\n",
    "\n",
    "    elif event == cv2.EVENT_MOUSEMOVE:\n",
    "        if drawing:\n",
    "            cv2.circle(frame, (x, y), 2, (0, 0, 255), -1)\n",
    "            points.append((x, y))\n",
    "\n",
    "    elif event == cv2.EVENT_LBUTTONUP:\n",
    "        drawing = False\n",
    "        cv2.circle(frame, (x, y), 2, (0, 0, 255), -1)\n",
    "        points.append((x, y))\n",
    "\n",
    "        # Convert the points list to a NumPy array\n",
    "        points_array = np.array(points)\n",
    "\n",
    "        # Fill the polygon in the mask\n",
    "        cv2.fillPoly(mask, [points_array], 255)\n",
    "\n",
    "    cv2.imshow('image', frame)  # Display the updated frame\n",
    "\n",
    "cv2.namedWindow('image')\n",
    "cv2.setMouseCallback('image', draw_polygon)\n",
    "\n",
    "while True:\n",
    "    cv2.imshow('image', frame)\n",
    "\n",
    "    # Exit the loop when 'Esc' key is pressed\n",
    "    if cv2.waitKey(1) == 27:\n",
    "        break\n",
    "\n",
    "# Save the mask as a white binary image\n",
    "mask = cv2.cvtColor(mask, cv2.COLOR_GRAY2RGB)\n",
    "img = cv2.bitwise_and(frame, mask)\n",
    "cv2.imwrite('maxillomandab.jpg',img)\n",
    "segt = segmentation(img,disp, model, val_transforms, DEVICE)\n",
    "segt.show()\n",
    "\n",
    "cv2.destroyAllWindows()"
   ]
  },
  {
   "cell_type": "code",
   "execution_count": null,
   "metadata": {},
   "outputs": [],
   "source": []
  }
 ],
 "metadata": {
  "kernelspec": {
   "display_name": "PyGrad",
   "language": "python",
   "name": "python3"
  },
  "language_info": {
   "codemirror_mode": {
    "name": "ipython",
    "version": 3
   },
   "file_extension": ".py",
   "mimetype": "text/x-python",
   "name": "python",
   "nbconvert_exporter": "python",
   "pygments_lexer": "ipython3",
   "version": "3.10.11"
  },
  "orig_nbformat": 4
 },
 "nbformat": 4,
 "nbformat_minor": 2
}
